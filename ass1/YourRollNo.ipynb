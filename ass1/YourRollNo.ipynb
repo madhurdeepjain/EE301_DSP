{
 "cells": [
  {
   "cell_type": "markdown",
   "metadata": {},
   "source": [
    "# EE301A Assignment 1\n",
    "- Use python3\n",
    "- Submit your \"rendered\" ipynb, i.e., with outputs of codes (plots and printed values) visible below\n",
    "- Use only numpy library for computing and signal processing, no other package allowed"
   ]
  },
  {
   "cell_type": "code",
   "execution_count": null,
   "metadata": {},
   "outputs": [],
   "source": [
    "import numpy as np\n",
    "import matplotlib.pyplot as plt"
   ]
  },
  {
   "cell_type": "markdown",
   "metadata": {},
   "source": [
    "# Q1. Downsampling"
   ]
  },
  {
   "cell_type": "markdown",
   "metadata": {},
   "source": [
    "Generate a triangle wave with time period = T seconds, sampling rate Fs, and length N. Its amplitude should vary between 0 and 1, and both rising and falling should have same slopes (magnitude).\n",
    "NOTE: signal should start from zero amplitude.(i.e. rising edge should occur first)"
   ]
  },
  {
   "cell_type": "code",
   "execution_count": null,
   "metadata": {},
   "outputs": [],
   "source": [
    "def generateTriangle(T, Fs, N):\n",
    "    '''\n",
    "    Return: \n",
    "        x: numpy array of shape (N,)\n",
    "    '''\n",
    "\n",
    "    ### WRITE YOUR CODE HERE - 5 MARKS\n",
    "\n",
    "    return x"
   ]
  },
  {
   "cell_type": "markdown",
   "metadata": {},
   "source": [
    "Downsample x by a factor M (positive integer)"
   ]
  },
  {
   "cell_type": "code",
   "execution_count": null,
   "metadata": {},
   "outputs": [],
   "source": [
    "def downsample(x, M):\n",
    "    '''\n",
    "    Return:\n",
    "        y: numpy array of shape similar to x, but shorter by a factor M\n",
    "    '''\n",
    "\n",
    "    ### WRITE YOUR CODE HERE - 5 MARKS\n",
    "\n",
    "    return y"
   ]
  },
  {
   "cell_type": "markdown",
   "metadata": {},
   "source": [
    "Plot x vs n"
   ]
  },
  {
   "cell_type": "code",
   "execution_count": null,
   "metadata": {},
   "outputs": [],
   "source": [
    "def plot_discrete(x, xlabel='',ylabel=''):\n",
    "    plt.stem(np.arange(0,len(x)),x)\n",
    "    plt.xlabel(xlabel)\n",
    "    plt.ylabel(ylabel)\n",
    "    return"
   ]
  },
  {
   "cell_type": "markdown",
   "metadata": {},
   "source": [
    "Plot x vs t, using sampling rate Fs"
   ]
  },
  {
   "cell_type": "code",
   "execution_count": null,
   "metadata": {},
   "outputs": [],
   "source": [
    "def plot_continuous(x, Fs, xlabel='',ylabel=''):\n",
    "    Ts=1/Fs\n",
    "    N = len(x)\n",
    "    duration_in_s = N*Ts\n",
    "    plt.plot(np.arange(0,duration_in_s,Ts), x)\n",
    "    plt.xlabel(xlabel)\n",
    "    plt.ylabel(ylabel)\n",
    "    return"
   ]
  },
  {
   "cell_type": "markdown",
   "metadata": {},
   "source": [
    "### Experiment (use the above functions only)\n",
    "- Consider a signal $x(t)$ which is a triangle wave with time period 0.1s and of total duration of 10 seconds. Sample it at Fs=100Hz. Plot $x(t)$ and $x[n]$. \n",
    "- Downsample $x[n]$ by a factor of 2 to get $y[n]$. Plot $y(t)$ and $y[n]$. \n",
    "- What is the time period of $y(t)$? (compute manually)\n",
    "\n",
    "Grading: 10 marks for correct plots and correct value of time period"
   ]
  },
  {
   "cell_type": "code",
   "execution_count": null,
   "metadata": {},
   "outputs": [],
   "source": [
    "def expt1():\n",
    "    \n",
    "\n",
    "    ### WRITE YOUR CODE HERE - 10 MARKS\n",
    "\n",
    "    ### (the variables you get here will be plotted/printed by lines below)\n",
    "    T_yt = '???'\n",
    "    plt.subplot(221);plot_continuous(xt, Fs, xlabel='t (in s)', ylabel='x(t)');\n",
    "    plt.subplot(222);plot_discrete(xn, xlabel='n', ylabel='x[n]');\n",
    "    plt.subplot(223);plot_continuous(yt, Fs, xlabel='t (in s)', ylabel='y(t)');\n",
    "    plt.subplot(224);plot_discrete(yn, xlabel='n', ylabel='y[n]');\n",
    "    print('time period of yt', T_yt) \n",
    "    return\n",
    "if __name__==\"__main__\":\n",
    "    expt1()"
   ]
  },
  {
   "cell_type": "markdown",
   "metadata": {},
   "source": [
    "# Q2. Moving Average Filter"
   ]
  },
  {
   "cell_type": "markdown",
   "metadata": {},
   "source": [
    "Generate a sine signal x[n] with frequency f Hz, sampled at Fs Hz, and length N"
   ]
  },
  {
   "cell_type": "code",
   "execution_count": null,
   "metadata": {},
   "outputs": [],
   "source": [
    "def generateSine(f, Fs, N):\n",
    "    '''\n",
    "    Return: \n",
    "        x: numpy array of shape (N,)\n",
    "    '''\n",
    "\n",
    "    ### WRITE YOUR CODE HERE - 5 MARKS\n",
    "\n",
    "    return x"
   ]
  },
  {
   "cell_type": "markdown",
   "metadata": {},
   "source": [
    "Build a moving average filter of length M. It should be causal. Assume x=0 for n<0;\n",
    "use same formula as discussed in class."
   ]
  },
  {
   "cell_type": "code",
   "execution_count": null,
   "metadata": {},
   "outputs": [],
   "source": [
    "def filter_MA(x, M):\n",
    "    '''\n",
    "    Return:\n",
    "        y: numpy array of shape similar to x\n",
    "    '''\n",
    "\n",
    "    ### WRITE YOUR CODE HERE - 5 MARKS\n",
    "\n",
    "    return y"
   ]
  },
  {
   "cell_type": "markdown",
   "metadata": {},
   "source": [
    "Generate Gaussian noise signal with g[n] ~ $\\mathcal{N}(\\mu, \\sigma)$ of length N "
   ]
  },
  {
   "cell_type": "code",
   "execution_count": null,
   "metadata": {},
   "outputs": [],
   "source": [
    "def noiseGenerator(mu, sigma, N):\n",
    "    '''\n",
    "    Return: \n",
    "        g: numpy array of shape (N,)\n",
    "    '''\n",
    "\n",
    "    ### WRITE YOUR CODE HERE - 3 MARKS\n",
    "\n",
    "    return g"
   ]
  },
  {
   "cell_type": "markdown",
   "metadata": {},
   "source": [
    "Adder: adds two signal x and g"
   ]
  },
  {
   "cell_type": "code",
   "execution_count": null,
   "metadata": {},
   "outputs": [],
   "source": [
    "def adder(x, g):\n",
    "    '''\n",
    "    Return:\n",
    "        y: numpy array with y[n]=x[n]+g[n]\n",
    "    '''\n",
    "\n",
    "    ### WRITE YOUR CODE HERE - 2 MARKS\n",
    "\n",
    "    return y"
   ]
  },
  {
   "cell_type": "markdown",
   "metadata": {},
   "source": [
    "### Experiment (use the above functions only)\n",
    "- Construct a signal $x(t)$ with frequency 10 Hz of duration 0.5s. Sample it at 100Hz to get $x[n]$. Plot $x[n]$\n",
    "- Generate random noise $g[n] ~ \\mathcal{N}(0,0.3)$. Plot $g[n]$\n",
    "- Add noise to the signal. Plot the mixture $y[n]$\n",
    "- Pass y[n] through a moving average filter with M=4. Plot its output $z[n]$. Note that it looks more like $x[n]$, i.e. clean signal.\n",
    "\n",
    "Grading: 10 marks for correct plots"
   ]
  },
  {
   "cell_type": "code",
   "execution_count": null,
   "metadata": {},
   "outputs": [],
   "source": [
    "def expt2():\n",
    "\n",
    "    ### WRITE YOUR CODE HERE - 10 MARKS\n",
    "\n",
    "    \n",
    "    ### WRITE YOUR CODE HERE (the variables you get here will be plotted/printed by lines below)\n",
    "    \n",
    "    plt.subplot(221);plot_discrete(xn, xlabel='n', ylabel='x[n]')\n",
    "    plt.subplot(222);plot_discrete(gn, xlabel='n', ylabel='g[n]')\n",
    "    plt.subplot(223);plot_discrete(yn, xlabel='n', ylabel='y[n]')\n",
    "    plt.subplot(224);plot_discrete(zn, xlabel='n', ylabel='z[n]')\n",
    "    return\n",
    "if __name__==\"__main__\":\n",
    "    expt2()"
   ]
  },
  {
   "cell_type": "markdown",
   "metadata": {},
   "source": [
    "# Q3. Frequency Estimation"
   ]
  },
  {
   "cell_type": "markdown",
   "metadata": {},
   "source": [
    "Generate a frequency modulated signal x[n], which is $x(t)=\\sin(2\\pi f(t)t)$ with $f(t)=f_1+0.1\\sin(2\\pi f_2 t)$, sampled at a rate Fs and of length N."
   ]
  },
  {
   "cell_type": "code",
   "execution_count": null,
   "metadata": {},
   "outputs": [],
   "source": [
    "def generate_FM(f1, f2, Fs, N):\n",
    "    '''\n",
    "    Return: \n",
    "        x: numpy array of shape (N,)\n",
    "    '''\n",
    "\n",
    "    ### WRITE YOUR CODE HERE - 5 MARKS\n",
    "\n",
    "    return x"
   ]
  },
  {
   "cell_type": "markdown",
   "metadata": {},
   "source": [
    "Extract window: Given a signal x[n], take small windows of size W seconds with a hop or shift of H seconds. Use Fs as sampling rate. Return i'th window"
   ]
  },
  {
   "cell_type": "code",
   "execution_count": null,
   "metadata": {},
   "outputs": [],
   "source": [
    "def extractWindow(x, W, H, Fs, i):\n",
    "    '''\n",
    "    Return: \n",
    "        xw: num\n",
    "        py array of shape similar to x, but truncated\n",
    "    '''\n",
    "\n",
    "    ### WRITE YOUR CODE HERE - 5 MARKS\n",
    "\n",
    "    return xw"
   ]
  },
  {
   "cell_type": "markdown",
   "metadata": {},
   "source": [
    "Estimate the fundamental frequency F0 of x[n] in Hz, taking the sampling rate as Fs.\n",
    "1. Use autocorrelation function\n",
    "2. Use difference function"
   ]
  },
  {
   "cell_type": "code",
   "execution_count": null,
   "metadata": {},
   "outputs": [],
   "source": [
    "def estimateF0_autocorr(x, Fs):\n",
    "\n",
    "    ### WRITE YOUR CODE HERE - 10 MARKS\n",
    "\n",
    "    return F0_Hz"
   ]
  },
  {
   "cell_type": "code",
   "execution_count": null,
   "metadata": {},
   "outputs": [],
   "source": [
    "def estimateF0_diff(x, Fs):\n",
    "\n",
    "    ### WRITE YOUR CODE HERE - 10 MARKS\n",
    "\n",
    "    return F0_Hz"
   ]
  },
  {
   "cell_type": "markdown",
   "metadata": {},
   "source": [
    "### Experiment (use the above defined functions only)\n",
    "- Generate an FM signal with f1=1Hz and f2=0.1Hz. Use Fs=20Hz for duration of 5 secs. Plot $x[n]$\n",
    "- $x[n]$ is a quasi-stationary signal. Take small windows with W=2s and H=1s. Estimate F0 for each window using autocorrelation function. Plot F0_autocorr vs t.\n",
    "- Repeat F0 estimation using difference function. Plot F0_diff vs t."
   ]
  },
  {
   "cell_type": "code",
   "execution_count": null,
   "metadata": {},
   "outputs": [],
   "source": [
    "def expt3():\n",
    "\n",
    "    ### WRITE YOUR CODE HERE - 10 MARKS\n",
    "\n",
    "    ### WRITE YOUR CODE HERE (the variables you get here will be plotted/printed by lines below)\n",
    "    plt.subplot(311);plot_discrete(xn, xlabel='n', ylabel='x[n]');\n",
    "    plt.subplot(312);plot_continuous(F0_autocorr, Fs, xlabel='window index',ylabel='F0_autocorr');\n",
    "    plt.subplot(313);plot_continuous(F0_diff, Fs, xlabel='window index',ylabel='F0_diff');\n",
    "    return\n",
    "if __name__==\"__main__\":\n",
    "    expt3()"
   ]
  },
  {
   "cell_type": "code",
   "execution_count": null,
   "metadata": {},
   "outputs": [],
   "source": []
  }
 ],
 "metadata": {
  "kernelspec": {
   "display_name": "Python 3",
   "language": "python",
   "name": "python3"
  },
  "language_info": {
   "codemirror_mode": {
    "name": "ipython",
    "version": 3
   },
   "file_extension": ".py",
   "mimetype": "text/x-python",
   "name": "python",
   "nbconvert_exporter": "python",
   "pygments_lexer": "ipython3",
   "version": "3.7.4"
  }
 },
 "nbformat": 4,
 "nbformat_minor": 2
}
