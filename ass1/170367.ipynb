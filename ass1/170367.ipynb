{
 "cells": [
  {
   "cell_type": "markdown",
   "metadata": {
    "colab_type": "text",
    "id": "-ztF_0bLcNu6"
   },
   "source": [
    "# EE301A Assignment 1\n",
    "- Use python3\n",
    "- Submit your \"rendered\" ipynb, i.e., with outputs of codes (plots and printed values) visible below\n",
    "- Use only numpy library for computing and signal processing, no other package allowed"
   ]
  },
  {
   "cell_type": "code",
   "execution_count": 1,
   "metadata": {
    "colab": {},
    "colab_type": "code",
    "id": "5fMw3DuxcNu9"
   },
   "outputs": [],
   "source": [
    "import numpy as np\n",
    "import matplotlib.pyplot as plt"
   ]
  },
  {
   "cell_type": "markdown",
   "metadata": {
    "colab_type": "text",
    "id": "fI8g3pb7cNvE"
   },
   "source": [
    "# Q1. Downsampling"
   ]
  },
  {
   "cell_type": "markdown",
   "metadata": {
    "colab_type": "text",
    "id": "d-FUuCOHcNvG"
   },
   "source": [
    "Generate a triangle wave with time period = T seconds, sampling rate Fs, and length N. Its amplitude should vary between 0 and 1, and both rising and falling should have same slopes (magnitude).\n",
    "NOTE: signal should start from zero amplitude.(i.e. rising edge should occur first)"
   ]
  },
  {
   "cell_type": "code",
   "execution_count": 2,
   "metadata": {
    "colab": {},
    "colab_type": "code",
    "id": "o7odtPuzcNvH"
   },
   "outputs": [],
   "source": [
    "def generateTriangle(T, Fs, N):\n",
    "    '''\n",
    "    Return: \n",
    "        x: numpy array of shape (N,)\n",
    "    '''\n",
    "\n",
    "    ### WRITE YOUR CODE HERE - 5 MARKS\n",
    "    j=0\n",
    "    x=np.zeros(N)\n",
    "    for i in range(N):\n",
    "      t = i/Fs - j*T\n",
    "      if(t >= T):\n",
    "        t = t - T\n",
    "        j+=1\n",
    "\n",
    "      if(t < T/2):\n",
    "          x[i] = (2*t)/T\n",
    "      else:\n",
    "          x[i] = ((-2*t)/T) + 2\n",
    "\n",
    "    return x"
   ]
  },
  {
   "cell_type": "markdown",
   "metadata": {
    "colab_type": "text",
    "id": "oQPp_crWcNvN"
   },
   "source": [
    "Downsample x by a factor M (positive integer)"
   ]
  },
  {
   "cell_type": "code",
   "execution_count": 3,
   "metadata": {
    "colab": {},
    "colab_type": "code",
    "id": "rJDI7rEHcNvO"
   },
   "outputs": [],
   "source": [
    "def downsample(x, M):\n",
    "    '''\n",
    "    Return:\n",
    "        y: numpy array of shape similar to x, but shorter by a factor M\n",
    "    '''\n",
    "\n",
    "    ### WRITE YOUR CODE HERE - 5 MARKS\n",
    "    y = np.array([x[0]])\n",
    "    i=1\n",
    "    while(i*M<x.size):\n",
    "      y = np.append(y, x[i*M])\n",
    "      i = i+1\n",
    "\n",
    "    return y"
   ]
  },
  {
   "cell_type": "markdown",
   "metadata": {
    "colab_type": "text",
    "id": "KcOcp3pbcNvT"
   },
   "source": [
    "Plot x vs n"
   ]
  },
  {
   "cell_type": "code",
   "execution_count": 4,
   "metadata": {
    "colab": {},
    "colab_type": "code",
    "id": "q-OWAq3UcNvV"
   },
   "outputs": [],
   "source": [
    "def plot_discrete(x, xlabel='',ylabel=''):\n",
    "    plt.stem(np.arange(0,len(x)),x)\n",
    "    plt.xlabel(xlabel)\n",
    "    plt.ylabel(ylabel)\n",
    "    return"
   ]
  },
  {
   "cell_type": "markdown",
   "metadata": {
    "colab_type": "text",
    "id": "w_DDuvFUcNvZ"
   },
   "source": [
    "Plot x vs t, using sampling rate Fs"
   ]
  },
  {
   "cell_type": "code",
   "execution_count": 5,
   "metadata": {
    "colab": {},
    "colab_type": "code",
    "id": "QeZPOx4bcNvb"
   },
   "outputs": [],
   "source": [
    "def plot_continuous(x, Fs, xlabel='',ylabel=''):\n",
    "    Ts=1/Fs\n",
    "    N = len(x)\n",
    "    duration_in_s = N*Ts\n",
    "    plt.plot(np.arange(0,duration_in_s,Ts), x)\n",
    "    plt.xlabel(xlabel)\n",
    "    plt.ylabel(ylabel)\n",
    "    return"
   ]
  },
  {
   "cell_type": "markdown",
   "metadata": {
    "colab_type": "text",
    "id": "FaBhIvO6cNvg"
   },
   "source": [
    "### Experiment (use the above functions only)\n",
    "- Consider a signal $x(t)$ which is a triangle wave with time period 0.1s and of total duration of 10 seconds. Sample it at Fs=100Hz. Plot $x(t)$ and $x[n]$. \n",
    "- Downsample $x[n]$ by a factor of 2 to get $y[n]$. Plot $y(t)$ and $y[n]$. \n",
    "- What is the time period of $y(t)$? (compute manually)\n",
    "\n",
    "Grading: 10 marks for correct plots and correct value of time period"
   ]
  },
  {
   "cell_type": "code",
   "execution_count": 6,
   "metadata": {
    "colab": {
     "base_uri": "https://localhost:8080/",
     "height": 350
    },
    "colab_type": "code",
    "id": "kXRFXi13cNvh",
    "outputId": "20a64b4a-117e-4dab-cd09-9e87e874fdd9"
   },
   "outputs": [
    {
     "name": "stdout",
     "output_type": "stream",
     "text": [
      "time period of yt 0.05s\n"
     ]
    },
    {
     "data": {
      "image/png": "[encoded data removed]",
      "text/plain": [
       "<Figure size 432x288 with 4 Axes>"
      ]
     },
     "metadata": {
      "needs_background": "light"
     },
     "output_type": "display_data"
    }
   ],
   "source": [
    "def expt1():\n",
    "    \n",
    "\n",
    "    ### WRITE YOUR CODE HERE - 10 MARKS\n",
    "    T=0.1\n",
    "    Fs=100\n",
    "    t=10\n",
    "    f=2\n",
    "    N=int(t*Fs)\n",
    "    xt = xn = generateTriangle(T, Fs, N)\n",
    "    yt = yn = downsample(xn, f)\n",
    "\n",
    "    ### (the variables you get here will be plotted/printed by lines below)\n",
    "    T_yt = '0.05s'\n",
    "    plt.subplot(221);plot_continuous(xt, Fs, xlabel='t (in s)', ylabel='x(t)');\n",
    "    plt.subplot(222);plot_discrete(xn, xlabel='n', ylabel='x[n]');\n",
    "    plt.subplot(223);plot_continuous(yt, Fs/f, xlabel='t (in s)', ylabel='y(t)');\n",
    "    plt.subplot(224);plot_discrete(yn, xlabel='n', ylabel='y[n]');\n",
    "    print('time period of yt', T_yt)\n",
    "    return\n",
    "if __name__==\"__main__\":\n",
    "    expt1()"
   ]
  },
  {
   "cell_type": "markdown",
   "metadata": {
    "colab_type": "text",
    "id": "aQIAX5Y1cNvo"
   },
   "source": [
    "# Q2. Moving Average Filter"
   ]
  },
  {
   "cell_type": "markdown",
   "metadata": {
    "colab_type": "text",
    "id": "G0La-3APcNvp"
   },
   "source": [
    "Generate a sine signal x[n] with frequency f Hz, sampled at Fs Hz, and length N"
   ]
  },
  {
   "cell_type": "code",
   "execution_count": 7,
   "metadata": {
    "colab": {},
    "colab_type": "code",
    "id": "bOg-_TQHcNvq"
   },
   "outputs": [],
   "source": [
    "def generateSine(f, Fs, N):\n",
    "    '''\n",
    "    Return: \n",
    "        x: numpy array of shape (N,)\n",
    "    '''\n",
    "\n",
    "    ### WRITE YOUR CODE HERE - 5 MARKS\n",
    "    x=np.zeros(N)\n",
    "    for i in range(1,N):\n",
    "      x[i] = np.sin(2*np.pi*i*f/Fs)\n",
    "\n",
    "    return x"
   ]
  },
  {
   "cell_type": "markdown",
   "metadata": {
    "colab_type": "text",
    "id": "zHwkCt4bcNvv"
   },
   "source": [
    "Build a moving average filter of length M. It should be causal. Assume x=0 for n<0;\n",
    "use same formula as discussed in class."
   ]
  },
  {
   "cell_type": "code",
   "execution_count": 8,
   "metadata": {
    "colab": {},
    "colab_type": "code",
    "id": "AhLDLEXacNvx"
   },
   "outputs": [],
   "source": [
    "def filter_MA(x, M):\n",
    "    '''\n",
    "    Return:\n",
    "        y: numpy array of shape similar to x\n",
    "    '''\n",
    "\n",
    "    ### WRITE YOUR CODE HERE - 5 MARKS\n",
    "    y=np.zeros(x.size)\n",
    "    for i in range(0,x.size):\n",
    "      for j in range(0,M):\n",
    "        if(i>=j):\n",
    "          y[i] += x[i-j]\n",
    "      y[i] = y[i]/M\n",
    "\n",
    "    return y"
   ]
  },
  {
   "cell_type": "markdown",
   "metadata": {
    "colab_type": "text",
    "id": "APEGZbyKcNv0"
   },
   "source": [
    "Generate Gaussian noise signal with g[n] ~ $\\mathcal{N}(\\mu, \\sigma)$ of length N "
   ]
  },
  {
   "cell_type": "code",
   "execution_count": 9,
   "metadata": {
    "colab": {},
    "colab_type": "code",
    "id": "xr54eNQ4cNv1"
   },
   "outputs": [],
   "source": [
    "def noiseGenerator(mu, sigma, N):\n",
    "    '''\n",
    "    Return: \n",
    "        g: numpy array of shape (N,)\n",
    "    '''\n",
    "\n",
    "    ### WRITE YOUR CODE HERE - 3 MARKS\n",
    "    g = np.random.normal(mu, sigma, N)\n",
    "\n",
    "    return g"
   ]
  },
  {
   "cell_type": "markdown",
   "metadata": {
    "colab_type": "text",
    "id": "OavtG3t0cNv5"
   },
   "source": [
    "Adder: adds two signal x and g"
   ]
  },
  {
   "cell_type": "code",
   "execution_count": 10,
   "metadata": {
    "colab": {},
    "colab_type": "code",
    "id": "1aWymJaLcNv7"
   },
   "outputs": [],
   "source": [
    "def adder(x, g):\n",
    "    '''\n",
    "    Return:\n",
    "        y: numpy array with y[n]=x[n]+g[n]\n",
    "    '''\n",
    "\n",
    "    ### WRITE YOUR CODE HERE - 2 MARKS\n",
    "    y = x+g\n",
    "\n",
    "    return y"
   ]
  },
  {
   "cell_type": "markdown",
   "metadata": {
    "colab_type": "text",
    "id": "XnndJb6vcNv_"
   },
   "source": [
    "### Experiment (use the above functions only)\n",
    "- Construct a signal $x(t)$ with frequency 10 Hz of duration 0.5s. Sample it at 100Hz to get $x[n]$. Plot $x[n]$\n",
    "- Generate random noise $g[n] ~ \\mathcal{N}(0,0.3)$. Plot $g[n]$\n",
    "- Add noise to the signal. Plot the mixture $y[n]$\n",
    "- Pass y[n] through a moving average filter with M=4. Plot its output $z[n]$. Note that it looks more like $x[n]$, i.e. clean signal.\n",
    "\n",
    "Grading: 10 marks for correct plots"
   ]
  },
  {
   "cell_type": "code",
   "execution_count": 11,
   "metadata": {
    "colab": {
     "base_uri": "https://localhost:8080/",
     "height": 334
    },
    "colab_type": "code",
    "id": "t03kzllmcNwA",
    "outputId": "f59148c4-391a-43e1-bca2-51816045542b"
   },
   "outputs": [
    {
     "data": {
      "image/png": "[encoded data removed]",
      "text/plain": [
       "<Figure size 432x288 with 4 Axes>"
      ]
     },
     "metadata": {
      "needs_background": "light"
     },
     "output_type": "display_data"
    }
   ],
   "source": [
    "def expt2():\n",
    "\n",
    "    ### WRITE YOUR CODE HERE - 10 MARKS\n",
    "    f=10\n",
    "    t=0.5\n",
    "    Fs=100\n",
    "    N=int(t*Fs)\n",
    "    xn = generateSine(f,Fs,N)\n",
    "    gn = noiseGenerator(0,0.3,N)\n",
    "    yn=adder(xn,gn)\n",
    "    zn=filter_MA(yn,4)\n",
    "    \n",
    "    ### WRITE YOUR CODE HERE (the variables you get here will be plotted/printed by lines below)\n",
    "    \n",
    "    plt.subplot(221);plot_discrete(xn, xlabel='n', ylabel='x[n]')\n",
    "    plt.subplot(222);plot_discrete(gn, xlabel='n', ylabel='g[n]')\n",
    "    plt.subplot(223);plot_discrete(yn, xlabel='n', ylabel='y[n]')\n",
    "    plt.subplot(224);plot_discrete(zn, xlabel='n', ylabel='z[n]')\n",
    "    return\n",
    "if __name__==\"__main__\":\n",
    "    expt2()"
   ]
  },
  {
   "cell_type": "markdown",
   "metadata": {
    "colab_type": "text",
    "id": "D55uZYQWcNwE"
   },
   "source": [
    "# Q3. Frequency Estimation"
   ]
  },
  {
   "cell_type": "markdown",
   "metadata": {
    "colab_type": "text",
    "id": "jVZn0PIpcNwG"
   },
   "source": [
    "Generate a frequency modulated signal x[n], which is $x(t)=\\sin(2\\pi f(t)t)$ with $f(t)=f_1+0.1\\sin(2\\pi f_2 t)$, sampled at a rate Fs and of length N."
   ]
  },
  {
   "cell_type": "code",
   "execution_count": 12,
   "metadata": {
    "colab": {},
    "colab_type": "code",
    "id": "P2H8RST9cNwH"
   },
   "outputs": [],
   "source": [
    "def generate_FM(f1, f2, Fs, N):\n",
    "    '''\n",
    "    Return: \n",
    "        x: numpy array of shape (N,)\n",
    "    '''\n",
    "\n",
    "    ### WRITE YOUR CODE HERE - 5 MARKS\\\n",
    "    x = np.zeros(N)\n",
    "    for i in range(0,N):\n",
    "      x[i] = np.sin(2*np.pi*(f1 + 0.1*np.sin(2*np.pi*f2*i/Fs))*i/Fs)\n",
    "\n",
    "    return x"
   ]
  },
  {
   "cell_type": "markdown",
   "metadata": {
    "colab_type": "text",
    "id": "KKVYfPrZcNwL"
   },
   "source": [
    "Extract window: Given a signal x[n], take small windows of size W seconds with a hop or shift of H seconds. Use Fs as sampling rate. Return i'th window"
   ]
  },
  {
   "cell_type": "code",
   "execution_count": 13,
   "metadata": {
    "colab": {},
    "colab_type": "code",
    "id": "SVjrN3ADcNwM"
   },
   "outputs": [],
   "source": [
    "def extractWindow(x, W, H, Fs, i):\n",
    "    '''\n",
    "    Return: \n",
    "        xw: numpy array of shape similar to x, but truncated\n",
    "    '''\n",
    "\n",
    "    ### WRITE YOUR CODE HERE - 5 MARKS\n",
    "    WN = int(W*Fs)\n",
    "    xw = np.zeros(WN)\n",
    "    # xw = np.zeros(x.size)\n",
    "    for index in range(0,WN):\n",
    "      xw[index] = x[index + i*int(H*Fs)]\n",
    "\n",
    "    return xw"
   ]
  },
  {
   "cell_type": "markdown",
   "metadata": {
    "colab_type": "text",
    "id": "Pu4B3H7ScNwP"
   },
   "source": [
    "Estimate the fundamental frequency F0 of x[n] in Hz, taking the sampling rate as Fs.\n",
    "1. Use autocorrelation function\n",
    "2. Use difference function"
   ]
  },
  {
   "cell_type": "code",
   "execution_count": 14,
   "metadata": {
    "colab": {},
    "colab_type": "code",
    "id": "tOzbsLrxcNwQ"
   },
   "outputs": [],
   "source": [
    "def estimateF0_autocorr(x, Fs):\n",
    "\n",
    "    ### WRITE YOUR CODE HERE - 10 MARKS\n",
    "    N = x.size\n",
    "    F0_Hz=0\n",
    "    rxx = np.zeros(N)\n",
    "    for i in range(0,N):\n",
    "      for j in range(i,N):\n",
    "        rxx[i] += x[j]*x[j-i]\n",
    "      rxx[i] = rxx[i]/(N-i)\n",
    "    for i in range(1,N-1):\n",
    "      if(rxx[i]>rxx[i-1] and rxx[i]>rxx[i+1]):\n",
    "        F0_Hz = i\n",
    "        break\n",
    "    F0_Hz = F0_Hz/Fs\n",
    "    \n",
    "    return F0_Hz"
   ]
  },
  {
   "cell_type": "code",
   "execution_count": 15,
   "metadata": {
    "colab": {},
    "colab_type": "code",
    "id": "OtWWge3UcNwV"
   },
   "outputs": [],
   "source": [
    "def estimateF0_diff(x, Fs):\n",
    "\n",
    "    ### WRITE YOUR CODE HERE - 10 MARKS\n",
    "    N = x.size\n",
    "    F0_Hz=0\n",
    "    rxx = np.zeros(N)\n",
    "    for i in range(0,N):\n",
    "      for j in range(i,N):\n",
    "        rxx[i] += (x[j] - x[j-i])*(x[j] - x[j-i])\n",
    "    for i in range(1,N-1):\n",
    "      if(rxx[i]<rxx[i-1] and rxx[i]<rxx[i+1]):\n",
    "        F0_Hz = i\n",
    "        break\n",
    "    F0_Hz = F0_Hz/Fs\n",
    "\n",
    "    return F0_Hz"
   ]
  },
  {
   "cell_type": "markdown",
   "metadata": {
    "colab_type": "text",
    "id": "l9NfLnULcNwY"
   },
   "source": [
    "### Experiment (use the above defined functions only)\n",
    "- Generate an FM signal with f1=1Hz and f2=0.1Hz. Use Fs=20Hz for duration of 5 secs. Plot $x[n]$\n",
    "- $x[n]$ is a quasi-stationary signal. Take small windows with W=2s and H=1s. Estimate F0 for each window using autocorrelation function. Plot F0_autocorr vs t.\n",
    "- Repeat F0 estimation using difference function. Plot F0_diff vs t."
   ]
  },
  {
   "cell_type": "code",
   "execution_count": 16,
   "metadata": {
    "colab": {
     "base_uri": "https://localhost:8080/",
     "height": 334
    },
    "colab_type": "code",
    "id": "s15CKkzwcNwa",
    "outputId": "0db9f13b-d44e-42b9-c83e-3e3c0a9d8731"
   },
   "outputs": [
    {
     "data": {
      "image/png": "[encoded data removed]",
      "text/plain": [
       "<Figure size 432x288 with 3 Axes>"
      ]
     },
     "metadata": {
      "needs_background": "light"
     },
     "output_type": "display_data"
    }
   ],
   "source": [
    "def expt3():\n",
    "\n",
    "    ### WRITE YOUR CODE HERE - 10 MARKS\n",
    "    f1=1\n",
    "    f2=0.1\n",
    "    Fs=20\n",
    "    t=5\n",
    "    N=int(Fs*t)\n",
    "    xn = generate_FM(f1, f2, Fs, N)\n",
    "    i=0\n",
    "    W=2\n",
    "    H=1\n",
    "    F0_autocorr = []\n",
    "    F0_diff = []\n",
    "    while((i*H + W)*Fs <= N):\n",
    "      w = extractWindow(xn, W, H, Fs, i)\n",
    "      F0_autocorr.append(estimateF0_autocorr(w, Fs))\n",
    "      F0_diff.append(estimateF0_diff(w, Fs))\n",
    "      i = i+1\n",
    "    F0_autocorr = np.array(F0_autocorr)\n",
    "    F0_diff = np.array(F0_diff)\n",
    "    \n",
    "    ### WRITE YOUR CODE HERE (the variables you get here will be plotted/printed by lines below)\n",
    "    plt.subplot(311);plot_discrete(xn, xlabel='n', ylabel='x[n]');\n",
    "    plt.subplot(312);plot_continuous(F0_autocorr, Fs, xlabel='window index',ylabel='F0_autocorr');\n",
    "    plt.subplot(313);plot_continuous(F0_diff, Fs, xlabel='window index',ylabel='F0_diff');\n",
    "    return\n",
    "if __name__==\"__main__\":\n",
    "    expt3()"
   ]
  }
 ],
 "metadata": {
  "colab": {
   "name": "DSP_ass1.ipynb",
   "provenance": []
  },
  "kernelspec": {
   "display_name": "Python [conda env:dsp]",
   "language": "python",
   "name": "conda-env-dsp-py"
  },
  "language_info": {
   "codemirror_mode": {
    "name": "ipython",
    "version": 3
   },
   "file_extension": ".py",
   "mimetype": "text/x-python",
   "name": "python",
   "nbconvert_exporter": "python",
   "pygments_lexer": "ipython3",
   "version": "3.5.6"
  }
 },
 "nbformat": 4,
 "nbformat_minor": 1
}
